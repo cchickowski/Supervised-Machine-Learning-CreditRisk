{
 "cells": [
  {
   "cell_type": "code",
   "execution_count": 1,
   "metadata": {},
   "outputs": [],
   "source": [
    "import numpy as np\n",
    "import pandas as pd\n",
    "from pathlib import Path\n",
    "from sklearn.preprocessing import StandardScaler\n",
    "from sklearn.linear_model import LogisticRegression\n",
    "from sklearn.ensemble import RandomForestClassifier\n",
    "from sklearn.feature_selection import SelectFromModel"
   ]
  },
  {
   "cell_type": "code",
   "execution_count": 2,
   "metadata": {},
   "outputs": [],
   "source": [
    "train_df = pd.read_csv(Path('Resources/2019loans.csv'))\n",
    "test_df = pd.read_csv(Path('Resources/2020Q1loans.csv'))"
   ]
  },
  {
   "cell_type": "code",
   "execution_count": 5,
   "metadata": {},
   "outputs": [
    {
     "name": "stdout",
     "output_type": "stream",
     "text": [
      "<class 'pandas.core.frame.DataFrame'>\n",
      "RangeIndex: 4702 entries, 0 to 4701\n",
      "Data columns (total 86 columns):\n",
      " #   Column                      Non-Null Count  Dtype  \n",
      "---  ------                      --------------  -----  \n",
      " 0   Unnamed: 0                  4702 non-null   int64  \n",
      " 1   index                       4702 non-null   int64  \n",
      " 2   loan_amnt                   4702 non-null   float64\n",
      " 3   int_rate                    4702 non-null   float64\n",
      " 4   installment                 4702 non-null   float64\n",
      " 5   home_ownership              4702 non-null   object \n",
      " 6   annual_inc                  4702 non-null   float64\n",
      " 7   verification_status         4702 non-null   object \n",
      " 8   loan_status                 4702 non-null   object \n",
      " 9   pymnt_plan                  4702 non-null   object \n",
      " 10  dti                         4702 non-null   float64\n",
      " 11  delinq_2yrs                 4702 non-null   float64\n",
      " 12  inq_last_6mths              4702 non-null   float64\n",
      " 13  open_acc                    4702 non-null   float64\n",
      " 14  pub_rec                     4702 non-null   float64\n",
      " 15  revol_bal                   4702 non-null   float64\n",
      " 16  total_acc                   4702 non-null   float64\n",
      " 17  initial_list_status         4702 non-null   object \n",
      " 18  out_prncp                   4702 non-null   float64\n",
      " 19  out_prncp_inv               4702 non-null   float64\n",
      " 20  total_pymnt                 4702 non-null   float64\n",
      " 21  total_pymnt_inv             4702 non-null   float64\n",
      " 22  total_rec_prncp             4702 non-null   float64\n",
      " 23  total_rec_int               4702 non-null   float64\n",
      " 24  total_rec_late_fee          4702 non-null   float64\n",
      " 25  recoveries                  4702 non-null   float64\n",
      " 26  collection_recovery_fee     4702 non-null   float64\n",
      " 27  last_pymnt_amnt             4702 non-null   float64\n",
      " 28  collections_12_mths_ex_med  4702 non-null   float64\n",
      " 29  policy_code                 4702 non-null   float64\n",
      " 30  application_type            4702 non-null   object \n",
      " 31  acc_now_delinq              4702 non-null   float64\n",
      " 32  tot_coll_amt                4702 non-null   float64\n",
      " 33  tot_cur_bal                 4702 non-null   float64\n",
      " 34  open_acc_6m                 4702 non-null   float64\n",
      " 35  open_act_il                 4702 non-null   float64\n",
      " 36  open_il_12m                 4702 non-null   float64\n",
      " 37  open_il_24m                 4702 non-null   float64\n",
      " 38  mths_since_rcnt_il          4702 non-null   float64\n",
      " 39  total_bal_il                4702 non-null   float64\n",
      " 40  il_util                     4702 non-null   float64\n",
      " 41  open_rv_12m                 4702 non-null   float64\n",
      " 42  open_rv_24m                 4702 non-null   float64\n",
      " 43  max_bal_bc                  4702 non-null   float64\n",
      " 44  all_util                    4702 non-null   float64\n",
      " 45  total_rev_hi_lim            4702 non-null   float64\n",
      " 46  inq_fi                      4702 non-null   float64\n",
      " 47  total_cu_tl                 4702 non-null   float64\n",
      " 48  inq_last_12m                4702 non-null   float64\n",
      " 49  acc_open_past_24mths        4702 non-null   float64\n",
      " 50  avg_cur_bal                 4702 non-null   float64\n",
      " 51  bc_open_to_buy              4702 non-null   float64\n",
      " 52  bc_util                     4702 non-null   float64\n",
      " 53  chargeoff_within_12_mths    4702 non-null   float64\n",
      " 54  delinq_amnt                 4702 non-null   float64\n",
      " 55  mo_sin_old_il_acct          4702 non-null   float64\n",
      " 56  mo_sin_old_rev_tl_op        4702 non-null   float64\n",
      " 57  mo_sin_rcnt_rev_tl_op       4702 non-null   float64\n",
      " 58  mo_sin_rcnt_tl              4702 non-null   float64\n",
      " 59  mort_acc                    4702 non-null   float64\n",
      " 60  mths_since_recent_bc        4702 non-null   float64\n",
      " 61  mths_since_recent_inq       4702 non-null   float64\n",
      " 62  num_accts_ever_120_pd       4702 non-null   float64\n",
      " 63  num_actv_bc_tl              4702 non-null   float64\n",
      " 64  num_actv_rev_tl             4702 non-null   float64\n",
      " 65  num_bc_sats                 4702 non-null   float64\n",
      " 66  num_bc_tl                   4702 non-null   float64\n",
      " 67  num_il_tl                   4702 non-null   float64\n",
      " 68  num_op_rev_tl               4702 non-null   float64\n",
      " 69  num_rev_accts               4702 non-null   float64\n",
      " 70  num_rev_tl_bal_gt_0         4702 non-null   float64\n",
      " 71  num_sats                    4702 non-null   float64\n",
      " 72  num_tl_120dpd_2m            4702 non-null   float64\n",
      " 73  num_tl_30dpd                4702 non-null   float64\n",
      " 74  num_tl_90g_dpd_24m          4702 non-null   float64\n",
      " 75  num_tl_op_past_12m          4702 non-null   float64\n",
      " 76  pct_tl_nvr_dlq              4702 non-null   float64\n",
      " 77  percent_bc_gt_75            4702 non-null   float64\n",
      " 78  pub_rec_bankruptcies        4702 non-null   float64\n",
      " 79  tax_liens                   4702 non-null   float64\n",
      " 80  tot_hi_cred_lim             4702 non-null   float64\n",
      " 81  total_bal_ex_mort           4702 non-null   float64\n",
      " 82  total_bc_limit              4702 non-null   float64\n",
      " 83  total_il_high_credit_limit  4702 non-null   float64\n",
      " 84  hardship_flag               4702 non-null   object \n",
      " 85  debt_settlement_flag        4702 non-null   object \n",
      "dtypes: float64(76), int64(2), object(8)\n",
      "memory usage: 3.1+ MB\n"
     ]
    }
   ],
   "source": [
    "#Inspect dataframes with info() for cleaning\n",
    "#train_df.info()\n",
    "test_df.info()"
   ]
  },
  {
   "cell_type": "code",
   "execution_count": 6,
   "metadata": {},
   "outputs": [],
   "source": [
    "#cleaning test df\n",
    "del test_df['Unnamed: 0']\n",
    "del test_df['index']"
   ]
  },
  {
   "cell_type": "code",
   "execution_count": 7,
   "metadata": {},
   "outputs": [],
   "source": [
    "#cleaning train df\n",
    "del train_df['Unnamed: 0']\n",
    "del train_df['index']"
   ]
  },
  {
   "cell_type": "code",
   "execution_count": 9,
   "metadata": {},
   "outputs": [
    {
     "name": "stdout",
     "output_type": "stream",
     "text": [
      "<class 'pandas.core.frame.DataFrame'>\n",
      "RangeIndex: 12180 entries, 0 to 12179\n",
      "Data columns (total 84 columns):\n",
      " #   Column                      Non-Null Count  Dtype  \n",
      "---  ------                      --------------  -----  \n",
      " 0   loan_amnt                   12180 non-null  float64\n",
      " 1   int_rate                    12180 non-null  float64\n",
      " 2   installment                 12180 non-null  float64\n",
      " 3   home_ownership              12180 non-null  object \n",
      " 4   annual_inc                  12180 non-null  float64\n",
      " 5   verification_status         12180 non-null  object \n",
      " 6   loan_status                 12180 non-null  object \n",
      " 7   pymnt_plan                  12180 non-null  object \n",
      " 8   dti                         12180 non-null  float64\n",
      " 9   delinq_2yrs                 12180 non-null  float64\n",
      " 10  inq_last_6mths              12180 non-null  float64\n",
      " 11  open_acc                    12180 non-null  float64\n",
      " 12  pub_rec                     12180 non-null  float64\n",
      " 13  revol_bal                   12180 non-null  float64\n",
      " 14  total_acc                   12180 non-null  float64\n",
      " 15  initial_list_status         12180 non-null  object \n",
      " 16  out_prncp                   12180 non-null  float64\n",
      " 17  out_prncp_inv               12180 non-null  float64\n",
      " 18  total_pymnt                 12180 non-null  float64\n",
      " 19  total_pymnt_inv             12180 non-null  float64\n",
      " 20  total_rec_prncp             12180 non-null  float64\n",
      " 21  total_rec_int               12180 non-null  float64\n",
      " 22  total_rec_late_fee          12180 non-null  float64\n",
      " 23  recoveries                  12180 non-null  float64\n",
      " 24  collection_recovery_fee     12180 non-null  float64\n",
      " 25  last_pymnt_amnt             12180 non-null  float64\n",
      " 26  collections_12_mths_ex_med  12180 non-null  float64\n",
      " 27  policy_code                 12180 non-null  float64\n",
      " 28  application_type            12180 non-null  object \n",
      " 29  acc_now_delinq              12180 non-null  float64\n",
      " 30  tot_coll_amt                12180 non-null  float64\n",
      " 31  tot_cur_bal                 12180 non-null  float64\n",
      " 32  open_acc_6m                 12180 non-null  float64\n",
      " 33  open_act_il                 12180 non-null  float64\n",
      " 34  open_il_12m                 12180 non-null  float64\n",
      " 35  open_il_24m                 12180 non-null  float64\n",
      " 36  mths_since_rcnt_il          12180 non-null  float64\n",
      " 37  total_bal_il                12180 non-null  float64\n",
      " 38  il_util                     12180 non-null  float64\n",
      " 39  open_rv_12m                 12180 non-null  float64\n",
      " 40  open_rv_24m                 12180 non-null  float64\n",
      " 41  max_bal_bc                  12180 non-null  float64\n",
      " 42  all_util                    12180 non-null  float64\n",
      " 43  total_rev_hi_lim            12180 non-null  float64\n",
      " 44  inq_fi                      12180 non-null  float64\n",
      " 45  total_cu_tl                 12180 non-null  float64\n",
      " 46  inq_last_12m                12180 non-null  float64\n",
      " 47  acc_open_past_24mths        12180 non-null  float64\n",
      " 48  avg_cur_bal                 12180 non-null  float64\n",
      " 49  bc_open_to_buy              12180 non-null  float64\n",
      " 50  bc_util                     12180 non-null  float64\n",
      " 51  chargeoff_within_12_mths    12180 non-null  float64\n",
      " 52  delinq_amnt                 12180 non-null  float64\n",
      " 53  mo_sin_old_il_acct          12180 non-null  float64\n",
      " 54  mo_sin_old_rev_tl_op        12180 non-null  float64\n",
      " 55  mo_sin_rcnt_rev_tl_op       12180 non-null  float64\n",
      " 56  mo_sin_rcnt_tl              12180 non-null  float64\n",
      " 57  mort_acc                    12180 non-null  float64\n",
      " 58  mths_since_recent_bc        12180 non-null  float64\n",
      " 59  mths_since_recent_inq       12180 non-null  float64\n",
      " 60  num_accts_ever_120_pd       12180 non-null  float64\n",
      " 61  num_actv_bc_tl              12180 non-null  float64\n",
      " 62  num_actv_rev_tl             12180 non-null  float64\n",
      " 63  num_bc_sats                 12180 non-null  float64\n",
      " 64  num_bc_tl                   12180 non-null  float64\n",
      " 65  num_il_tl                   12180 non-null  float64\n",
      " 66  num_op_rev_tl               12180 non-null  float64\n",
      " 67  num_rev_accts               12180 non-null  float64\n",
      " 68  num_rev_tl_bal_gt_0         12180 non-null  float64\n",
      " 69  num_sats                    12180 non-null  float64\n",
      " 70  num_tl_120dpd_2m            12180 non-null  float64\n",
      " 71  num_tl_30dpd                12180 non-null  float64\n",
      " 72  num_tl_90g_dpd_24m          12180 non-null  float64\n",
      " 73  num_tl_op_past_12m          12180 non-null  float64\n",
      " 74  pct_tl_nvr_dlq              12180 non-null  float64\n",
      " 75  percent_bc_gt_75            12180 non-null  float64\n",
      " 76  pub_rec_bankruptcies        12180 non-null  float64\n",
      " 77  tax_liens                   12180 non-null  float64\n",
      " 78  tot_hi_cred_lim             12180 non-null  float64\n",
      " 79  total_bal_ex_mort           12180 non-null  float64\n",
      " 80  total_bc_limit              12180 non-null  float64\n",
      " 81  total_il_high_credit_limit  12180 non-null  float64\n",
      " 82  hardship_flag               12180 non-null  object \n",
      " 83  debt_settlement_flag        12180 non-null  object \n",
      "dtypes: float64(76), object(8)\n",
      "memory usage: 7.8+ MB\n"
     ]
    }
   ],
   "source": [
    "#Inspect dataframes again after cleaning\n",
    "#test_df.info()\n",
    "train_df.info()"
   ]
  },
  {
   "cell_type": "code",
   "execution_count": 11,
   "metadata": {},
   "outputs": [],
   "source": [
    "# Convert categorical data to numeric and separate target feature for training data\n",
    "train_df = pd.get_dummies(train_df, columns=['home_ownership', 'verification_status',\n",
    "                                            'application_type', 'hardship_flag',\n",
    "                                             'debt_settlement_flag', 'initial_list_status',\n",
    "                                            'pymnt_plan', 'loan_status'])"
   ]
  },
  {
   "cell_type": "code",
   "execution_count": 12,
   "metadata": {},
   "outputs": [],
   "source": [
    "# Convert categorical data to numeric and separate target feature for testing data\n",
    "test_df = pd.get_dummies(test_df, columns=['home_ownership', 'verification_status',\n",
    "                                            'application_type', 'hardship_flag',\n",
    "                                             'debt_settlement_flag', 'initial_list_status',\n",
    "                                            'pymnt_plan', 'loan_status'])"
   ]
  },
  {
   "cell_type": "code",
   "execution_count": 21,
   "metadata": {},
   "outputs": [],
   "source": [
    "# Convert categorical data to numeric and separate target feature for training data\n",
    "train_df=train_df.rename(columns={'loan_status_high_risk':'loan_status'})"
   ]
  },
  {
   "cell_type": "code",
   "execution_count": 22,
   "metadata": {},
   "outputs": [],
   "source": [
    "# Convert categorical data to numeric and separate target feature for testing data\n",
    "test_df =test_df.rename(columns={'loan_status_high_risk':'loan_status'})"
   ]
  },
  {
   "cell_type": "code",
   "execution_count": 23,
   "metadata": {},
   "outputs": [],
   "source": [
    "# add missing dummy variables to testing set\n",
    "test_df['debt_settlement_flag_Y'] = 0"
   ]
  },
  {
   "cell_type": "code",
   "execution_count": 24,
   "metadata": {},
   "outputs": [],
   "source": [
    "y_train = train_df['loan_status']\n",
    "X_train = train_df.drop('loan_status', axis=1)"
   ]
  },
  {
   "cell_type": "code",
   "execution_count": 25,
   "metadata": {},
   "outputs": [],
   "source": [
    "y_test = test_df['loan_status']\n",
    "X_test = test_df.drop('loan_status', axis=1)"
   ]
  },
  {
   "cell_type": "markdown",
   "metadata": {},
   "source": [
    "Unscaled Prediction: Logistic regression is the model I predit will score better. The reasoning for that is due to the data we are working with has been sampled to give an even number of high and low risk loans. I think the logistic regression will work better with that type of data sample. "
   ]
  },
  {
   "cell_type": "code",
   "execution_count": 26,
   "metadata": {},
   "outputs": [
    {
     "name": "stdout",
     "output_type": "stream",
     "text": [
      "Unscaled Logistic Regression Score: 0.5159506592939175\n"
     ]
    },
    {
     "name": "stderr",
     "output_type": "stream",
     "text": [
      "C:\\Users\\cchic\\anaconda3\\lib\\site-packages\\sklearn\\linear_model\\_logistic.py:763: ConvergenceWarning: lbfgs failed to converge (status=1):\n",
      "STOP: TOTAL NO. of ITERATIONS REACHED LIMIT.\n",
      "\n",
      "Increase the number of iterations (max_iter) or scale the data as shown in:\n",
      "    https://scikit-learn.org/stable/modules/preprocessing.html\n",
      "Please also refer to the documentation for alternative solver options:\n",
      "    https://scikit-learn.org/stable/modules/linear_model.html#logistic-regression\n",
      "  n_iter_i = _check_optimize_result(\n"
     ]
    }
   ],
   "source": [
    "# Train the Logistic Regression model on the unscaled data and print the model score\n",
    "lr_classifier_unscaled = LogisticRegression()\n",
    "lr_classifier_unscaled.fit(X_train, y_train)\n",
    "\n",
    "print(f\"Unscaled Logistic Regression Score: {lr_classifier_unscaled.score(X_test, y_test)}\")"
   ]
  },
  {
   "cell_type": "code",
   "execution_count": 36,
   "metadata": {},
   "outputs": [
    {
     "name": "stdout",
     "output_type": "stream",
     "text": [
      "Unscaled RandomForest Score: 0.5002126754572522\n"
     ]
    }
   ],
   "source": [
    "# Train a Random Forest Classifier model and print the model score\n",
    "rf_clf_unscaled = RandomForestClassifier(random_state=1, n_estimators=3).fit(X_train, y_train)\n",
    "print(f'Unscaled RandomForest Score: {rf_clf_unscaled.score(X_test, y_test)}')"
   ]
  },
  {
   "cell_type": "markdown",
   "metadata": {},
   "source": [
    "Unscaled Conclusion: Logistic Regression did score marginally better than the RandomForest model with the data unscaled.  "
   ]
  },
  {
   "cell_type": "code",
   "execution_count": 33,
   "metadata": {},
   "outputs": [],
   "source": [
    "# Scale the data\n",
    "scaler = StandardScaler().fit(X_train)\n",
    "X_train_scaled = scaler.transform(X_train)\n",
    "X_test_scaled = scaler.transform(X_test)"
   ]
  },
  {
   "cell_type": "markdown",
   "metadata": {},
   "source": [
    "Scaled Prediction: I'm sticking with logistic regression as performing better with the scaled data. I think the scalling of this data sample will create a larger difference between LR and RF compared to the unscaled data. "
   ]
  },
  {
   "cell_type": "code",
   "execution_count": 34,
   "metadata": {},
   "outputs": [
    {
     "name": "stdout",
     "output_type": "stream",
     "text": [
      "Scaled Logistic Regression Score: 0.49978732454274777\n"
     ]
    }
   ],
   "source": [
    "# Train the Logistic Regression model on the scaled data and print the model score\n",
    "lr_classifier_scaled = LogisticRegression()\n",
    "lr_classifier_scaled.fit(X_train_scaled, y_train)\n",
    "\n",
    "print(f\"Scaled Logistic Regression Score: {lr_classifier_unscaled.score(X_test_scaled, y_test)}\")"
   ]
  },
  {
   "cell_type": "code",
   "execution_count": 37,
   "metadata": {},
   "outputs": [
    {
     "name": "stdout",
     "output_type": "stream",
     "text": [
      "Scaled RandomForest Score: 0.5004253509145045\n"
     ]
    }
   ],
   "source": [
    "# Train a Random Forest Classifier model on the scaled data and print the model score\n",
    "rf_clf_scaled = RandomForestClassifier(random_state=1, n_estimators=3).fit(X_train_scaled, y_train)\n",
    "print(f'Scaled RandomForest Score: {rf_clf_scaled.score(X_test_scaled, y_test)}')"
   ]
  },
  {
   "cell_type": "markdown",
   "metadata": {},
   "source": [
    "Scaled Conclusion: RandomForest scored marginally better with the scaled data. The difference was minimal, but the LR score dropped with the scaled data. The RF model results performed almost identically even with the scaling. "
   ]
  }
 ],
 "metadata": {
  "kernelspec": {
   "display_name": "Python 3",
   "language": "python",
   "name": "python3"
  },
  "language_info": {
   "codemirror_mode": {
    "name": "ipython",
    "version": 3
   },
   "file_extension": ".py",
   "mimetype": "text/x-python",
   "name": "python",
   "nbconvert_exporter": "python",
   "pygments_lexer": "ipython3",
   "version": "3.8.8"
  }
 },
 "nbformat": 4,
 "nbformat_minor": 4
}
